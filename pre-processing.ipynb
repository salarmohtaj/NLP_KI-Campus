{
 "cells": [
  {
   "metadata": {},
   "cell_type": "code",
   "outputs": [],
   "execution_count": null,
   "source": [
    "Text Preprocessing in Python\n",
    "This notebook demonstrates text preprocessing using Python. It covers basic built-in methods, NLTK, and SpaCy for common preprocessing tasks such as:\n",
    "\n",
    "Converting text to lowercase\n",
    "Removing punctuation\n",
    "Tokenization\n",
    "Lemmatization\n",
    "Stopword removal"
   ],
   "id": "204f8d6ac56fa91"
  },
  {
   "metadata": {},
   "cell_type": "markdown",
   "source": "",
   "id": "fb3ef706e4c242f6"
  },
  {
   "metadata": {},
   "cell_type": "markdown",
   "source": "# Basic Preprocessing with Python Built-in Methods",
   "id": "a5977827724bbbbb"
  },
  {
   "metadata": {
    "ExecuteTime": {
     "end_time": "2024-12-30T10:42:14.487304Z",
     "start_time": "2024-12-30T10:42:14.481533Z"
    }
   },
   "cell_type": "code",
   "source": [
    "# Example text\n",
    "text = \"Hello, World! This is an example sentence for Text Preprocessing.\"\n",
    "\n",
    "# Convert to lowercase\n",
    "lowercase_text = text.lower()  # Converts all characters to lowercase\n",
    "print(\"Lowercase:\", lowercase_text)\n",
    "\n",
    "# Remove punctuation using str.translate and str.maketrans\n",
    "import string\n",
    "no_punctuation_text = text.translate(str.maketrans(\"\", \"\", string.punctuation))  # Removes all punctuation\n",
    "print(\"Without punctuation:\", no_punctuation_text)\n",
    "\n",
    "# Split text into words (basic tokenization)\n",
    "words = no_punctuation_text.split()  # Splits text into words based on spaces\n",
    "print(\"Words:\", words)"
   ],
   "id": "initial_id",
   "outputs": [
    {
     "name": "stdout",
     "output_type": "stream",
     "text": [
      "Lowercase: hello, world! this is an example sentence for text preprocessing.\n",
      "Without punctuation: Hello World This is an example sentence for Text Preprocessing\n",
      "Words: ['Hello', 'World', 'This', 'is', 'an', 'example', 'sentence', 'for', 'Text', 'Preprocessing']\n"
     ]
    }
   ],
   "execution_count": 1
  },
  {
   "metadata": {},
   "cell_type": "code",
   "outputs": [],
   "execution_count": null,
   "source": "",
   "id": "561cdc756f4eaf9"
  }
 ],
 "metadata": {
  "kernelspec": {
   "display_name": "Python 3",
   "language": "python",
   "name": "python3"
  },
  "language_info": {
   "codemirror_mode": {
    "name": "ipython",
    "version": 2
   },
   "file_extension": ".py",
   "mimetype": "text/x-python",
   "name": "python",
   "nbconvert_exporter": "python",
   "pygments_lexer": "ipython2",
   "version": "2.7.6"
  }
 },
 "nbformat": 4,
 "nbformat_minor": 5
}
