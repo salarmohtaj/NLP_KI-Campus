{
 "cells": [
  {
   "metadata": {},
   "cell_type": "markdown",
   "source": [
    "# Semantic Textual Similarity\n",
    "This notebook demonstrates key concepts and techniques in semantic textual similarity (STS) using Python. STS measures the semantic closeness of texts, including words, sentences, and paragraphs."
   ],
   "id": "e253d889706dc690"
  },
  {
   "metadata": {},
   "cell_type": "code",
   "source": [
    "#Installing libraries\n",
    "%pip install NLTK\n",
    "%pip install scikit-learn"
   ],
   "id": "74661e4ad0b504e4",
   "outputs": [],
   "execution_count": null
  },
  {
   "metadata": {},
   "cell_type": "markdown",
   "source": "## Example: WordNet-based Methods (Using `nltk`)",
   "id": "d960c5083d07fc28"
  },
  {
   "metadata": {},
   "cell_type": "code",
   "source": [
    "import nltk\n",
    "nltk.download('wordnet')\n",
    "from nltk.corpus import wordnet\n",
    "\n",
    "# Find synonyms for a word\n",
    "synonyms = wordnet.synsets('dog')\n",
    "print(\"Synsets for 'dog':\", synonyms)\n",
    "\n",
    "# Definition of the first synset\n",
    "print(\"Definition:\", wordnet.synset('dog.n.01').definition())\n",
    "\n",
    "# Calculate similarity between words\n",
    "dog = wordnet.synset('dog.n.01')\n",
    "cat = wordnet.synset('cat.n.01')\n",
    "print(\"Path similarity between 'dog' and 'cat':\", dog.path_similarity(cat))\n",
    "print(\"Wu-Palmer similarity between 'dog' and 'cat':\", dog.wup_similarity(cat))"
   ],
   "id": "5c76eefe0b07f2",
   "outputs": [],
   "execution_count": null
  },
  {
   "metadata": {},
   "cell_type": "markdown",
   "source": [
    "## Sentence-Level Semantic Similarity\n",
    "Example: Cosine Similarity of TF-IDF Weighted Vectors"
   ],
   "id": "a8628729e4fbc43d"
  },
  {
   "cell_type": "code",
   "id": "initial_id",
   "metadata": {
    "collapsed": true
   },
   "source": [
    "from sklearn.feature_extraction.text import TfidfVectorizer\n",
    "from sklearn.metrics.pairwise import cosine_similarity\n",
    "\n",
    "# Example sentences\n",
    "sentences = [\n",
    "    \"Mary is allergic to dairy products.\",\n",
    "    \"Mary is lactose intolerant.\"\n",
    "]\n",
    "\n",
    "# Compute TF-IDF vectors\n",
    "vectorizer = TfidfVectorizer()\n",
    "tfidf_vectors = vectorizer.fit_transform(sentences)\n",
    "\n",
    "# Cosine similarity\n",
    "cosine_sim = cosine_similarity(tfidf_vectors[0], tfidf_vectors[1])\n",
    "print(\"Cosine Similarity:\", cosine_sim[0][0])\n"
   ],
   "outputs": [],
   "execution_count": null
  }
 ],
 "metadata": {
  "kernelspec": {
   "display_name": "Python 3",
   "language": "python",
   "name": "NLP"
  },
  "language_info": {
   "codemirror_mode": {
    "name": "ipython",
    "version": 2
   },
   "file_extension": ".py",
   "mimetype": "text/x-python",
   "name": "python",
   "nbconvert_exporter": "python",
   "pygments_lexer": "ipython2",
   "version": "2.7.6"
  }
 },
 "nbformat": 4,
 "nbformat_minor": 5
}
