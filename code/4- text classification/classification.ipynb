{
 "cells": [
  {
   "metadata": {},
   "cell_type": "markdown",
   "source": [
    "# Text Classification with Naive Bayes and Logistic Regression\n",
    "\n",
    "This notebook demonstrates a text classification pipeline using a small dataset. The steps include data loading, preprocessing, model training, evaluation, and performance comparison."
   ],
   "id": "b28efb7eea6909af"
  },
  {
   "metadata": {},
   "cell_type": "code",
   "source": [
    "import pandas as pd\n",
    "import numpy as np\n",
    "from sklearn.model_selection import train_test_split\n",
    "from sklearn.feature_extraction.text import CountVectorizer\n",
    "from sklearn.naive_bayes import MultinomialNB\n",
    "from sklearn.linear_model import LogisticRegression\n",
    "from sklearn.metrics import f1_score, classification_report, ConfusionMatrixDisplay\n",
    "import matplotlib.pyplot as plt"
   ],
   "id": "d2ad351311bed013",
   "outputs": [],
   "execution_count": null
  },
  {
   "metadata": {},
   "cell_type": "markdown",
   "source": "## Load Dataset",
   "id": "92c1a43d663f902a"
  },
  {
   "cell_type": "code",
   "id": "initial_id",
   "metadata": {
    "collapsed": true
   },
   "source": [
    "# Example dataset\n",
    "data = {\n",
    "    \"text\": [\n",
    "        \"I love this product!\",\n",
    "        \"This is the worst experience I've had.\",\n",
    "        \"Absolutely fantastic service.\",\n",
    "        \"Terrible quality, very disappointed.\",\n",
    "        \"I will recommend this to my friends.\",\n",
    "        \"Not worth the money.\",\n",
    "        \"Excellent value for the price.\",\n",
    "        \"Horrible experience, never again.\"\n",
    "    ],\n",
    "    \"label\": [1, 0, 1, 0, 1, 0, 1, 0]  # 1: Positive, 0: Negative\n",
    "}\n",
    "\n",
    "df = pd.DataFrame(data)\n",
    "print(df.head())"
   ],
   "outputs": [],
   "execution_count": null
  },
  {
   "metadata": {},
   "cell_type": "markdown",
   "source": "## Preprocess Data",
   "id": "99ecb66c08e4c396"
  },
  {
   "metadata": {},
   "cell_type": "code",
   "source": [
    "# Split data into training and testing sets\n",
    "X_train, X_test, y_train, y_test = train_test_split(df[\"text\"], df[\"label\"], test_size=0.3, random_state=42)\n",
    "\n",
    "# Convert text to numerical features using CountVectorizer\n",
    "vectorizer = CountVectorizer()\n",
    "X_train_vectorized = vectorizer.fit_transform(X_train)\n",
    "X_test_vectorized = vectorizer.transform(X_test)\n",
    "\n",
    "print(\"Vocabulary size:\", len(vectorizer.vocabulary_))\n"
   ],
   "id": "77eb3c9d98cee1cd",
   "outputs": [],
   "execution_count": null
  },
  {
   "metadata": {},
   "cell_type": "markdown",
   "source": "## Train Classification Models",
   "id": "b4e001357effed5b"
  },
  {
   "metadata": {},
   "cell_type": "markdown",
   "source": "### Naive Bayes",
   "id": "ee725e1242b1e6e2"
  },
  {
   "metadata": {},
   "cell_type": "code",
   "source": [
    "# Train Naive Bayes model\n",
    "nb_model = MultinomialNB()\n",
    "nb_model.fit(X_train_vectorized, y_train)\n",
    "\n",
    "# Predictions and evaluation\n",
    "nb_predictions = nb_model.predict(X_test_vectorized)\n",
    "nb_f1 = f1_score(y_test, nb_predictions)\n",
    "print(\"Naive Bayes F1 Score:\", nb_f1)"
   ],
   "id": "d0f610f1dfc18d45",
   "outputs": [],
   "execution_count": null
  },
  {
   "metadata": {},
   "cell_type": "markdown",
   "source": "### Logistic Regression",
   "id": "abf30b01121b342f"
  },
  {
   "metadata": {},
   "cell_type": "code",
   "source": [
    "# Train Logistic Regression model\n",
    "lr_model = LogisticRegression()\n",
    "lr_model.fit(X_train_vectorized, y_train)\n",
    "\n",
    "# Predictions and evaluation\n",
    "lr_predictions = lr_model.predict(X_test_vectorized)\n",
    "lr_f1 = f1_score(y_test, lr_predictions)\n",
    "print(\"Logistic Regression F1 Score:\", lr_f1)"
   ],
   "id": "9d7fd063601db742",
   "outputs": [],
   "execution_count": null
  },
  {
   "metadata": {},
   "cell_type": "markdown",
   "source": "## Evaluate and Compare Models",
   "id": "8a580f927c8bd730"
  },
  {
   "metadata": {},
   "cell_type": "markdown",
   "source": "### Classification Reports",
   "id": "275182a3646aa50"
  },
  {
   "metadata": {},
   "cell_type": "code",
   "source": [
    "print(\"Naive Bayes Classification Report:\")\n",
    "print(classification_report(y_test, nb_predictions))\n",
    "\n",
    "print(\"Logistic Regression Classification Report:\")\n",
    "print(classification_report(y_test, lr_predictions))"
   ],
   "id": "ab0916e9f9a469e1",
   "outputs": [],
   "execution_count": null
  },
  {
   "metadata": {},
   "cell_type": "markdown",
   "source": "### Confusion Matrix",
   "id": "1ebecb5c6a4894c1"
  },
  {
   "metadata": {},
   "cell_type": "code",
   "source": [
    "# Plot confusion matrix\n",
    "fig, axes = plt.subplots(1, 2, figsize=(12, 6))\n",
    "\n",
    "ConfusionMatrixDisplay.from_estimator(nb_model, X_test_vectorized, y_test, ax=axes[0], cmap=\"Blues\")\n",
    "axes[0].title.set_text('Naive Bayes')\n",
    "\n",
    "ConfusionMatrixDisplay.from_estimator(lr_model, X_test_vectorized, y_test, ax=axes[1], cmap=\"Greens\")\n",
    "axes[1].title.set_text('Logistic Regression')\n",
    "\n",
    "plt.tight_layout()\n",
    "plt.show()"
   ],
   "id": "5f648bdffdd6a411",
   "outputs": [],
   "execution_count": null
  },
  {
   "metadata": {},
   "cell_type": "markdown",
   "source": "## Plot F1 Score Comparison",
   "id": "ef92f5bf0962dac0"
  },
  {
   "metadata": {},
   "cell_type": "code",
   "source": [
    "# Plot F1 scores for comparison\n",
    "models = ['Naive Bayes', 'Logistic Regression']\n",
    "f1_scores = [nb_f1, lr_f1]\n",
    "\n",
    "plt.bar(models, f1_scores, color=['blue', 'green'])\n",
    "plt.title(\"F1 Score Comparison\")\n",
    "plt.ylabel(\"F1 Score\")\n",
    "plt.ylim(0, 1)\n",
    "plt.show()"
   ],
   "id": "11292396746b6c19",
   "outputs": [],
   "execution_count": null
  }
 ],
 "metadata": {
  "kernelspec": {
   "display_name": "Python 3",
   "language": "python",
   "name": "NLP"
  },
  "language_info": {
   "codemirror_mode": {
    "name": "ipython",
    "version": 2
   },
   "file_extension": ".py",
   "mimetype": "text/x-python",
   "name": "python",
   "nbconvert_exporter": "python",
   "pygments_lexer": "ipython2",
   "version": "2.7.6"
  }
 },
 "nbformat": 4,
 "nbformat_minor": 5
}
