{
 "cells": [
  {
   "metadata": {},
   "cell_type": "markdown",
   "source": "# Text pre-processing in Python",
   "id": "410a2fc746cbfab3"
  },
  {
   "metadata": {},
   "cell_type": "markdown",
   "source": [
    "This notebook demonstrates text preprocessing using Python. It covers basic built-in methods, NLTK, and SpaCy for common preprocessing tasks such as:\n",
    "\n",
    "- Converting text to lowercase\n",
    "- Removing punctuation\n",
    "- Tokenization\n",
    "- Lemmatization\n",
    "- Stopword removal"
   ],
   "id": "c08c11e23fbd6e74"
  },
  {
   "metadata": {
    "ExecuteTime": {
     "end_time": "2025-01-06T23:58:09.412171Z",
     "start_time": "2025-01-06T23:57:43.854485Z"
    }
   },
   "cell_type": "code",
   "source": [
    "# Install required packages\n",
    "%pip install nltk spacy"
   ],
   "id": "3d32a724763938cd",
   "outputs": [
    {
     "name": "stdout",
     "output_type": "stream",
     "text": [
      "Requirement already satisfied: nltk in /home/salar/anaconda3/lib/python3.12/site-packages (3.8.1)\r\n",
      "Collecting spacy\r\n",
      "  Downloading spacy-3.8.3-cp312-cp312-manylinux_2_17_x86_64.manylinux2014_x86_64.whl.metadata (27 kB)\r\n",
      "Requirement already satisfied: click in /home/salar/anaconda3/lib/python3.12/site-packages (from nltk) (8.1.7)\r\n",
      "Requirement already satisfied: joblib in /home/salar/anaconda3/lib/python3.12/site-packages (from nltk) (1.4.2)\r\n",
      "Requirement already satisfied: regex>=2021.8.3 in /home/salar/anaconda3/lib/python3.12/site-packages (from nltk) (2023.10.3)\r\n",
      "Requirement already satisfied: tqdm in /home/salar/anaconda3/lib/python3.12/site-packages (from nltk) (4.66.4)\r\n",
      "Collecting spacy-legacy<3.1.0,>=3.0.11 (from spacy)\r\n",
      "  Downloading spacy_legacy-3.0.12-py2.py3-none-any.whl.metadata (2.8 kB)\r\n",
      "Collecting spacy-loggers<2.0.0,>=1.0.0 (from spacy)\r\n",
      "  Downloading spacy_loggers-1.0.5-py3-none-any.whl.metadata (23 kB)\r\n",
      "Collecting murmurhash<1.1.0,>=0.28.0 (from spacy)\r\n",
      "  Downloading murmurhash-1.0.11-cp312-cp312-manylinux_2_5_x86_64.manylinux1_x86_64.manylinux_2_17_x86_64.manylinux2014_x86_64.whl.metadata (2.0 kB)\r\n",
      "Collecting cymem<2.1.0,>=2.0.2 (from spacy)\r\n",
      "  Downloading cymem-2.0.10-cp312-cp312-manylinux_2_17_x86_64.manylinux2014_x86_64.whl.metadata (8.4 kB)\r\n",
      "Collecting preshed<3.1.0,>=3.0.2 (from spacy)\r\n",
      "  Downloading preshed-3.0.9-cp312-cp312-manylinux_2_5_x86_64.manylinux1_x86_64.manylinux_2_17_x86_64.manylinux2014_x86_64.whl.metadata (2.2 kB)\r\n",
      "Collecting thinc<8.4.0,>=8.3.0 (from spacy)\r\n",
      "  Downloading thinc-8.3.3-cp312-cp312-manylinux_2_17_x86_64.manylinux2014_x86_64.whl.metadata (15 kB)\r\n",
      "Collecting wasabi<1.2.0,>=0.9.1 (from spacy)\r\n",
      "  Downloading wasabi-1.1.3-py3-none-any.whl.metadata (28 kB)\r\n",
      "Collecting srsly<3.0.0,>=2.4.3 (from spacy)\r\n",
      "  Downloading srsly-2.5.0-cp312-cp312-manylinux_2_17_x86_64.manylinux2014_x86_64.whl.metadata (19 kB)\r\n",
      "Collecting catalogue<2.1.0,>=2.0.6 (from spacy)\r\n",
      "  Downloading catalogue-2.0.10-py3-none-any.whl.metadata (14 kB)\r\n",
      "Collecting weasel<0.5.0,>=0.1.0 (from spacy)\r\n",
      "  Downloading weasel-0.4.1-py3-none-any.whl.metadata (4.6 kB)\r\n",
      "Collecting typer<1.0.0,>=0.3.0 (from spacy)\r\n",
      "  Downloading typer-0.15.1-py3-none-any.whl.metadata (15 kB)\r\n",
      "Requirement already satisfied: numpy>=1.19.0 in /home/salar/anaconda3/lib/python3.12/site-packages (from spacy) (1.26.4)\r\n",
      "Requirement already satisfied: requests<3.0.0,>=2.13.0 in /home/salar/anaconda3/lib/python3.12/site-packages (from spacy) (2.32.2)\r\n",
      "Requirement already satisfied: pydantic!=1.8,!=1.8.1,<3.0.0,>=1.7.4 in /home/salar/anaconda3/lib/python3.12/site-packages (from spacy) (2.5.3)\r\n",
      "Requirement already satisfied: jinja2 in /home/salar/anaconda3/lib/python3.12/site-packages (from spacy) (3.1.4)\r\n",
      "Requirement already satisfied: setuptools in /home/salar/anaconda3/lib/python3.12/site-packages (from spacy) (69.5.1)\r\n",
      "Requirement already satisfied: packaging>=20.0 in /home/salar/anaconda3/lib/python3.12/site-packages (from spacy) (23.2)\r\n",
      "Collecting langcodes<4.0.0,>=3.2.0 (from spacy)\r\n",
      "  Downloading langcodes-3.5.0-py3-none-any.whl.metadata (29 kB)\r\n",
      "Collecting language-data>=1.2 (from langcodes<4.0.0,>=3.2.0->spacy)\r\n",
      "  Downloading language_data-1.3.0-py3-none-any.whl.metadata (4.3 kB)\r\n",
      "Requirement already satisfied: annotated-types>=0.4.0 in /home/salar/anaconda3/lib/python3.12/site-packages (from pydantic!=1.8,!=1.8.1,<3.0.0,>=1.7.4->spacy) (0.6.0)\r\n",
      "Requirement already satisfied: pydantic-core==2.14.6 in /home/salar/anaconda3/lib/python3.12/site-packages (from pydantic!=1.8,!=1.8.1,<3.0.0,>=1.7.4->spacy) (2.14.6)\r\n",
      "Requirement already satisfied: typing-extensions>=4.6.1 in /home/salar/anaconda3/lib/python3.12/site-packages (from pydantic!=1.8,!=1.8.1,<3.0.0,>=1.7.4->spacy) (4.11.0)\r\n",
      "Requirement already satisfied: charset-normalizer<4,>=2 in /home/salar/anaconda3/lib/python3.12/site-packages (from requests<3.0.0,>=2.13.0->spacy) (2.0.4)\r\n",
      "Requirement already satisfied: idna<4,>=2.5 in /home/salar/anaconda3/lib/python3.12/site-packages (from requests<3.0.0,>=2.13.0->spacy) (3.7)\r\n",
      "Requirement already satisfied: urllib3<3,>=1.21.1 in /home/salar/anaconda3/lib/python3.12/site-packages (from requests<3.0.0,>=2.13.0->spacy) (2.2.2)\r\n",
      "Requirement already satisfied: certifi>=2017.4.17 in /home/salar/anaconda3/lib/python3.12/site-packages (from requests<3.0.0,>=2.13.0->spacy) (2024.12.14)\r\n",
      "Collecting blis<1.2.0,>=1.1.0 (from thinc<8.4.0,>=8.3.0->spacy)\r\n",
      "  Downloading blis-1.1.0-cp312-cp312-manylinux_2_17_x86_64.manylinux2014_x86_64.whl.metadata (7.7 kB)\r\n",
      "Collecting confection<1.0.0,>=0.0.1 (from thinc<8.4.0,>=8.3.0->spacy)\r\n",
      "  Downloading confection-0.1.5-py3-none-any.whl.metadata (19 kB)\r\n",
      "Collecting shellingham>=1.3.0 (from typer<1.0.0,>=0.3.0->spacy)\r\n",
      "  Downloading shellingham-1.5.4-py2.py3-none-any.whl.metadata (3.5 kB)\r\n",
      "Requirement already satisfied: rich>=10.11.0 in /home/salar/anaconda3/lib/python3.12/site-packages (from typer<1.0.0,>=0.3.0->spacy) (13.3.5)\r\n",
      "Collecting cloudpathlib<1.0.0,>=0.7.0 (from weasel<0.5.0,>=0.1.0->spacy)\r\n",
      "  Downloading cloudpathlib-0.20.0-py3-none-any.whl.metadata (14 kB)\r\n",
      "Requirement already satisfied: smart-open<8.0.0,>=5.2.1 in /home/salar/anaconda3/lib/python3.12/site-packages (from weasel<0.5.0,>=0.1.0->spacy) (5.2.1)\r\n",
      "Requirement already satisfied: MarkupSafe>=2.0 in /home/salar/anaconda3/lib/python3.12/site-packages (from jinja2->spacy) (2.1.3)\r\n",
      "Collecting marisa-trie>=1.1.0 (from language-data>=1.2->langcodes<4.0.0,>=3.2.0->spacy)\r\n",
      "  Downloading marisa_trie-1.2.1-cp312-cp312-manylinux_2_17_x86_64.manylinux2014_x86_64.whl.metadata (9.0 kB)\r\n",
      "Requirement already satisfied: markdown-it-py<3.0.0,>=2.2.0 in /home/salar/anaconda3/lib/python3.12/site-packages (from rich>=10.11.0->typer<1.0.0,>=0.3.0->spacy) (2.2.0)\r\n",
      "Requirement already satisfied: pygments<3.0.0,>=2.13.0 in /home/salar/anaconda3/lib/python3.12/site-packages (from rich>=10.11.0->typer<1.0.0,>=0.3.0->spacy) (2.15.1)\r\n",
      "Requirement already satisfied: mdurl~=0.1 in /home/salar/anaconda3/lib/python3.12/site-packages (from markdown-it-py<3.0.0,>=2.2.0->rich>=10.11.0->typer<1.0.0,>=0.3.0->spacy) (0.1.0)\r\n",
      "Downloading spacy-3.8.3-cp312-cp312-manylinux_2_17_x86_64.manylinux2014_x86_64.whl (31.8 MB)\r\n",
      "\u001B[2K   \u001B[90m━━━━━━━━━━━━━━━━━━━━━━━━━━━━━━━━━━━━━━━━\u001B[0m \u001B[32m31.8/31.8 MB\u001B[0m \u001B[31m14.5 MB/s\u001B[0m eta \u001B[36m0:00:00\u001B[0m00:01\u001B[0m00:01\u001B[0m\r\n",
      "\u001B[?25hDownloading catalogue-2.0.10-py3-none-any.whl (17 kB)\r\n",
      "Downloading cymem-2.0.10-cp312-cp312-manylinux_2_17_x86_64.manylinux2014_x86_64.whl (227 kB)\r\n",
      "\u001B[2K   \u001B[90m━━━━━━━━━━━━━━━━━━━━━━━━━━━━━━━━━━━━━━━\u001B[0m \u001B[32m227.9/227.9 kB\u001B[0m \u001B[31m641.6 kB/s\u001B[0m eta \u001B[36m0:00:00\u001B[0m \u001B[36m0:00:01\u001B[0mm\r\n",
      "\u001B[?25hDownloading langcodes-3.5.0-py3-none-any.whl (182 kB)\r\n",
      "\u001B[2K   \u001B[90m━━━━━━━━━━━━━━━━━━━━━━━━━━━━━━━━━━━━━━━\u001B[0m \u001B[32m183.0/183.0 kB\u001B[0m \u001B[31m292.0 kB/s\u001B[0m eta \u001B[36m0:00:00\u001B[0ma \u001B[36m0:00:01\u001B[0m\r\n",
      "\u001B[?25hDownloading murmurhash-1.0.11-cp312-cp312-manylinux_2_5_x86_64.manylinux1_x86_64.manylinux_2_17_x86_64.manylinux2014_x86_64.whl (138 kB)\r\n",
      "\u001B[2K   \u001B[90m━━━━━━━━━━━━━━━━━━━━━━━━━━━━━━━━━━━━━━━\u001B[0m \u001B[32m138.5/138.5 kB\u001B[0m \u001B[31m218.6 kB/s\u001B[0m eta \u001B[36m0:00:00\u001B[0ma \u001B[36m0:00:01\u001B[0m\r\n",
      "\u001B[?25hDownloading preshed-3.0.9-cp312-cp312-manylinux_2_5_x86_64.manylinux1_x86_64.manylinux_2_17_x86_64.manylinux2014_x86_64.whl (156 kB)\r\n",
      "\u001B[2K   \u001B[90m━━━━━━━━━━━━━━━━━━━━━━━━━━━━━━━━━━━━━━━\u001B[0m \u001B[32m156.8/156.8 kB\u001B[0m \u001B[31m373.8 kB/s\u001B[0m eta \u001B[36m0:00:00\u001B[0m00:01\u001B[0m00:01\u001B[0m\r\n",
      "\u001B[?25hDownloading spacy_legacy-3.0.12-py2.py3-none-any.whl (29 kB)\r\n",
      "Downloading spacy_loggers-1.0.5-py3-none-any.whl (22 kB)\r\n",
      "Downloading srsly-2.5.0-cp312-cp312-manylinux_2_17_x86_64.manylinux2014_x86_64.whl (1.1 MB)\r\n",
      "\u001B[2K   \u001B[90m━━━━━━━━━━━━━━━━━━━━━━━━━━━━━━━━━━━━━━━━\u001B[0m \u001B[32m1.1/1.1 MB\u001B[0m \u001B[31m1.4 MB/s\u001B[0m eta \u001B[36m0:00:00\u001B[0m00:01\u001B[0m00:01\u001B[0mm\r\n",
      "\u001B[?25hDownloading thinc-8.3.3-cp312-cp312-manylinux_2_17_x86_64.manylinux2014_x86_64.whl (3.7 MB)\r\n",
      "\u001B[2K   \u001B[90m━━━━━━━━━━━━━━━━━━━━━━━━━━━━━━━━━━━━━━━━\u001B[0m \u001B[32m3.7/3.7 MB\u001B[0m \u001B[31m6.6 MB/s\u001B[0m eta \u001B[36m0:00:00\u001B[0m00:01\u001B[0mm00:01\u001B[0m\r\n",
      "\u001B[?25hDownloading typer-0.15.1-py3-none-any.whl (44 kB)\r\n",
      "\u001B[2K   \u001B[90m━━━━━━━━━━━━━━━━━━━━━━━━━━━━━━━━━━━━━━━━\u001B[0m \u001B[32m44.9/44.9 kB\u001B[0m \u001B[31m10.4 MB/s\u001B[0m eta \u001B[36m0:00:00\u001B[0m\r\n",
      "\u001B[?25hDownloading wasabi-1.1.3-py3-none-any.whl (27 kB)\r\n",
      "Downloading weasel-0.4.1-py3-none-any.whl (50 kB)\r\n",
      "\u001B[2K   \u001B[90m━━━━━━━━━━━━━━━━━━━━━━━━━━━━━━━━━━━━━━━━\u001B[0m \u001B[32m50.3/50.3 kB\u001B[0m \u001B[31m120.0 kB/s\u001B[0m eta \u001B[36m0:00:00\u001B[0m \u001B[36m0:00:01\u001B[0m\r\n",
      "\u001B[?25hDownloading blis-1.1.0-cp312-cp312-manylinux_2_17_x86_64.manylinux2014_x86_64.whl (9.3 MB)\r\n",
      "\u001B[2K   \u001B[90m━━━━━━━━━━━━━━━━━━━━━━━━━━━━━━━━━━━━━━━━\u001B[0m \u001B[32m9.3/9.3 MB\u001B[0m \u001B[31m24.2 MB/s\u001B[0m eta \u001B[36m0:00:00\u001B[0ma \u001B[36m0:00:01\u001B[0m\r\n",
      "\u001B[?25hDownloading cloudpathlib-0.20.0-py3-none-any.whl (52 kB)\r\n",
      "\u001B[2K   \u001B[90m━━━━━━━━━━━━━━━━━━━━━━━━━━━━━━━━━━━━━━━━\u001B[0m \u001B[32m52.5/52.5 kB\u001B[0m \u001B[31m310.2 kB/s\u001B[0m eta \u001B[36m0:00:00\u001B[0m--:--\u001B[0m\r\n",
      "\u001B[?25hDownloading confection-0.1.5-py3-none-any.whl (35 kB)\r\n",
      "Downloading language_data-1.3.0-py3-none-any.whl (5.4 MB)\r\n",
      "\u001B[2K   \u001B[90m━━━━━━━━━━━━━━━━━━━━━━━━━━━━━━━━━━━━━━━━\u001B[0m \u001B[32m5.4/5.4 MB\u001B[0m \u001B[31m8.2 MB/s\u001B[0m eta \u001B[36m0:00:00\u001B[0m00:01\u001B[0mm00:01\u001B[0m\r\n",
      "\u001B[?25hDownloading shellingham-1.5.4-py2.py3-none-any.whl (9.8 kB)\r\n",
      "Downloading marisa_trie-1.2.1-cp312-cp312-manylinux_2_17_x86_64.manylinux2014_x86_64.whl (1.4 MB)\r\n",
      "\u001B[2K   \u001B[90m━━━━━━━━━━━━━━━━━━━━━━━━━━━━━━━━━━━━━━━━\u001B[0m \u001B[32m1.4/1.4 MB\u001B[0m \u001B[31m2.4 MB/s\u001B[0m eta \u001B[36m0:00:00\u001B[0m00:01\u001B[0m00:01\u001B[0mm\r\n",
      "\u001B[?25hInstalling collected packages: cymem, wasabi, spacy-loggers, spacy-legacy, shellingham, murmurhash, marisa-trie, cloudpathlib, catalogue, blis, srsly, preshed, language-data, typer, langcodes, confection, weasel, thinc, spacy\r\n",
      "Successfully installed blis-1.1.0 catalogue-2.0.10 cloudpathlib-0.20.0 confection-0.1.5 cymem-2.0.10 langcodes-3.5.0 language-data-1.3.0 marisa-trie-1.2.1 murmurhash-1.0.11 preshed-3.0.9 shellingham-1.5.4 spacy-3.8.3 spacy-legacy-3.0.12 spacy-loggers-1.0.5 srsly-2.5.0 thinc-8.3.3 typer-0.15.1 wasabi-1.1.3 weasel-0.4.1\r\n",
      "Note: you may need to restart the kernel to use updated packages.\n"
     ]
    }
   ],
   "execution_count": 2
  },
  {
   "metadata": {
    "ExecuteTime": {
     "end_time": "2025-01-06T23:58:25.456288Z",
     "start_time": "2025-01-06T23:58:25.453490Z"
    }
   },
   "cell_type": "code",
   "source": [
    "# Example text\n",
    "text = \"This is an Example TEXT with Mixed CASE and Punctuations!!!\"\n",
    "print(text)"
   ],
   "id": "d4df48c6f36300f3",
   "outputs": [
    {
     "name": "stdout",
     "output_type": "stream",
     "text": [
      "This is an Example TEXT with Mixed CASE and Punctuations!!!\n"
     ]
    }
   ],
   "execution_count": 4
  },
  {
   "metadata": {},
   "cell_type": "markdown",
   "source": "## Basic Pre-processing with Python Built-in Methods",
   "id": "a5977827724bbbbb"
  },
  {
   "metadata": {
    "ExecuteTime": {
     "end_time": "2025-01-06T23:58:28.037921Z",
     "start_time": "2025-01-06T23:58:28.033897Z"
    }
   },
   "cell_type": "code",
   "source": [
    "lowercase_text = text.lower()\n",
    "print(\"Lowercase:\", lowercase_text)\n",
    "\n",
    "# Remove punctuations\n",
    "import string\n",
    "no_punctuation = ''.join(char for char in text if char not in string.punctuation)\n",
    "print(\"Without Punctuation:\", no_punctuation)\n",
    "\n",
    "# Split into words\n",
    "words = no_punctuation.split()\n",
    "print(\"Words:\", words)"
   ],
   "id": "initial_id",
   "outputs": [
    {
     "name": "stdout",
     "output_type": "stream",
     "text": [
      "Lowercase: this is an example text with mixed case and punctuations!!!\n",
      "Without Punctuation: This is an Example TEXT with Mixed CASE and Punctuations\n",
      "Words: ['This', 'is', 'an', 'Example', 'TEXT', 'with', 'Mixed', 'CASE', 'and', 'Punctuations']\n"
     ]
    }
   ],
   "execution_count": 5
  },
  {
   "metadata": {},
   "cell_type": "markdown",
   "source": "## Basic Preprocessing with NLTK",
   "id": "95aa72ef4ceb748d"
  },
  {
   "metadata": {
    "ExecuteTime": {
     "end_time": "2025-01-07T00:01:30.417789Z",
     "start_time": "2025-01-07T00:01:29.955035Z"
    }
   },
   "cell_type": "code",
   "source": [
    "# Import NLTK and download required resources\n",
    "import nltk\n",
    "nltk.download('punkt')\n",
    "nltk.download('punkt_tab')\n",
    "nltk.download('stopwords')\n",
    "from nltk.corpus import stopwords\n",
    "from nltk.tokenize import word_tokenize\n",
    "\n",
    "# Tokenization\n",
    "tokens = word_tokenize(text)\n",
    "print(\"Tokens:\", tokens)\n",
    "\n",
    "# Remove stopwords\n",
    "stop_words = set(stopwords.words('english'))\n",
    "filtered_tokens = [word for word in tokens if word.lower() not in stop_words]\n",
    "print(\"Without Stopwords:\", filtered_tokens)"
   ],
   "id": "561cdc756f4eaf9",
   "outputs": [
    {
     "name": "stderr",
     "output_type": "stream",
     "text": [
      "[nltk_data] Downloading package punkt to /home/salar/nltk_data...\n",
      "[nltk_data]   Package punkt is already up-to-date!\n",
      "[nltk_data] Downloading package punkt_tab to /home/salar/nltk_data...\n"
     ]
    },
    {
     "name": "stdout",
     "output_type": "stream",
     "text": [
      "Tokens: ['This', 'is', 'an', 'Example', 'TEXT', 'with', 'Mixed', 'CASE', 'and', 'Punctuations', '!', '!', '!']\n",
      "Without Stopwords: ['Example', 'TEXT', 'Mixed', 'CASE', 'Punctuations', '!', '!', '!']\n"
     ]
    },
    {
     "name": "stderr",
     "output_type": "stream",
     "text": [
      "[nltk_data]   Unzipping tokenizers/punkt_tab.zip.\n",
      "[nltk_data] Downloading package stopwords to /home/salar/nltk_data...\n",
      "[nltk_data]   Package stopwords is already up-to-date!\n"
     ]
    }
   ],
   "execution_count": 8
  },
  {
   "metadata": {},
   "cell_type": "markdown",
   "source": "## Basic Preprocessing with Spacy",
   "id": "e6be4cb3d836ce6d"
  },
  {
   "metadata": {
    "ExecuteTime": {
     "end_time": "2025-01-06T23:58:54.661442Z",
     "start_time": "2025-01-06T23:58:53.013002Z"
    }
   },
   "cell_type": "code",
   "source": [
    "# Load spaCy\n",
    "import spacy\n",
    "spacy.cli.download(\"en_core_web_sm\")  # Download the English model if not already installed\n",
    "nlp = spacy.load(\"en_core_web_sm\")\n",
    "\n",
    "# Process the text\n",
    "doc = nlp(text)\n",
    "\n",
    "# Lemmatization\n",
    "lemmatized = [token.lemma_ for token in doc]\n",
    "print(\"Lemmatized:\", lemmatized)\n",
    "\n",
    "# Remove stopwords and punctuations\n",
    "filtered = [token.text for token in doc if not token.is_stop and not token.is_punct]\n",
    "print(\"Filtered:\", filtered)"
   ],
   "id": "df0c5d8515910948",
   "outputs": [
    {
     "ename": "TypeError",
     "evalue": "ForwardRef._evaluate() missing 1 required keyword-only argument: 'recursive_guard'",
     "output_type": "error",
     "traceback": [
      "\u001B[0;31m---------------------------------------------------------------------------\u001B[0m",
      "\u001B[0;31mTypeError\u001B[0m                                 Traceback (most recent call last)",
      "Cell \u001B[0;32mIn[7], line 2\u001B[0m\n\u001B[1;32m      1\u001B[0m \u001B[38;5;66;03m# Load spaCy\u001B[39;00m\n\u001B[0;32m----> 2\u001B[0m \u001B[38;5;28;01mimport\u001B[39;00m \u001B[38;5;21;01mspacy\u001B[39;00m\n\u001B[1;32m      3\u001B[0m spacy\u001B[38;5;241m.\u001B[39mcli\u001B[38;5;241m.\u001B[39mdownload(\u001B[38;5;124m\"\u001B[39m\u001B[38;5;124men_core_web_sm\u001B[39m\u001B[38;5;124m\"\u001B[39m)  \u001B[38;5;66;03m# Download the English model if not already installed\u001B[39;00m\n\u001B[1;32m      4\u001B[0m nlp \u001B[38;5;241m=\u001B[39m spacy\u001B[38;5;241m.\u001B[39mload(\u001B[38;5;124m\"\u001B[39m\u001B[38;5;124men_core_web_sm\u001B[39m\u001B[38;5;124m\"\u001B[39m)\n",
      "File \u001B[0;32m~/anaconda3/lib/python3.12/site-packages/spacy/__init__.py:13\u001B[0m\n\u001B[1;32m     10\u001B[0m \u001B[38;5;66;03m# These are imported as part of the API\u001B[39;00m\n\u001B[1;32m     11\u001B[0m \u001B[38;5;28;01mfrom\u001B[39;00m \u001B[38;5;21;01mthinc\u001B[39;00m\u001B[38;5;21;01m.\u001B[39;00m\u001B[38;5;21;01mapi\u001B[39;00m \u001B[38;5;28;01mimport\u001B[39;00m Config, prefer_gpu, require_cpu, require_gpu  \u001B[38;5;66;03m# noqa: F401\u001B[39;00m\n\u001B[0;32m---> 13\u001B[0m \u001B[38;5;28;01mfrom\u001B[39;00m \u001B[38;5;21;01m.\u001B[39;00m \u001B[38;5;28;01mimport\u001B[39;00m pipeline  \u001B[38;5;66;03m# noqa: F401\u001B[39;00m\n\u001B[1;32m     14\u001B[0m \u001B[38;5;28;01mfrom\u001B[39;00m \u001B[38;5;21;01m.\u001B[39;00m \u001B[38;5;28;01mimport\u001B[39;00m util\n\u001B[1;32m     15\u001B[0m \u001B[38;5;28;01mfrom\u001B[39;00m \u001B[38;5;21;01m.\u001B[39;00m\u001B[38;5;21;01mabout\u001B[39;00m \u001B[38;5;28;01mimport\u001B[39;00m __version__  \u001B[38;5;66;03m# noqa: F401\u001B[39;00m\n",
      "File \u001B[0;32m~/anaconda3/lib/python3.12/site-packages/spacy/pipeline/__init__.py:1\u001B[0m\n\u001B[0;32m----> 1\u001B[0m \u001B[38;5;28;01mfrom\u001B[39;00m \u001B[38;5;21;01m.\u001B[39;00m\u001B[38;5;21;01mattributeruler\u001B[39;00m \u001B[38;5;28;01mimport\u001B[39;00m AttributeRuler\n\u001B[1;32m      2\u001B[0m \u001B[38;5;28;01mfrom\u001B[39;00m \u001B[38;5;21;01m.\u001B[39;00m\u001B[38;5;21;01mdep_parser\u001B[39;00m \u001B[38;5;28;01mimport\u001B[39;00m DependencyParser\n\u001B[1;32m      3\u001B[0m \u001B[38;5;28;01mfrom\u001B[39;00m \u001B[38;5;21;01m.\u001B[39;00m\u001B[38;5;21;01medit_tree_lemmatizer\u001B[39;00m \u001B[38;5;28;01mimport\u001B[39;00m EditTreeLemmatizer\n",
      "File \u001B[0;32m~/anaconda3/lib/python3.12/site-packages/spacy/pipeline/attributeruler.py:8\u001B[0m\n\u001B[1;32m      6\u001B[0m \u001B[38;5;28;01mfrom\u001B[39;00m \u001B[38;5;21;01m.\u001B[39;00m\u001B[38;5;21;01m.\u001B[39;00m \u001B[38;5;28;01mimport\u001B[39;00m util\n\u001B[1;32m      7\u001B[0m \u001B[38;5;28;01mfrom\u001B[39;00m \u001B[38;5;21;01m.\u001B[39;00m\u001B[38;5;21;01m.\u001B[39;00m\u001B[38;5;21;01merrors\u001B[39;00m \u001B[38;5;28;01mimport\u001B[39;00m Errors\n\u001B[0;32m----> 8\u001B[0m \u001B[38;5;28;01mfrom\u001B[39;00m \u001B[38;5;21;01m.\u001B[39;00m\u001B[38;5;21;01m.\u001B[39;00m\u001B[38;5;21;01mlanguage\u001B[39;00m \u001B[38;5;28;01mimport\u001B[39;00m Language\n\u001B[1;32m      9\u001B[0m \u001B[38;5;28;01mfrom\u001B[39;00m \u001B[38;5;21;01m.\u001B[39;00m\u001B[38;5;21;01m.\u001B[39;00m\u001B[38;5;21;01mmatcher\u001B[39;00m \u001B[38;5;28;01mimport\u001B[39;00m Matcher\n\u001B[1;32m     10\u001B[0m \u001B[38;5;28;01mfrom\u001B[39;00m \u001B[38;5;21;01m.\u001B[39;00m\u001B[38;5;21;01m.\u001B[39;00m\u001B[38;5;21;01mscorer\u001B[39;00m \u001B[38;5;28;01mimport\u001B[39;00m Scorer\n",
      "File \u001B[0;32m~/anaconda3/lib/python3.12/site-packages/spacy/language.py:46\u001B[0m\n\u001B[1;32m     44\u001B[0m \u001B[38;5;28;01mfrom\u001B[39;00m \u001B[38;5;21;01m.\u001B[39;00m\u001B[38;5;21;01mlang\u001B[39;00m\u001B[38;5;21;01m.\u001B[39;00m\u001B[38;5;21;01mtokenizer_exceptions\u001B[39;00m \u001B[38;5;28;01mimport\u001B[39;00m BASE_EXCEPTIONS, URL_MATCH\n\u001B[1;32m     45\u001B[0m \u001B[38;5;28;01mfrom\u001B[39;00m \u001B[38;5;21;01m.\u001B[39;00m\u001B[38;5;21;01mlookups\u001B[39;00m \u001B[38;5;28;01mimport\u001B[39;00m load_lookups\n\u001B[0;32m---> 46\u001B[0m \u001B[38;5;28;01mfrom\u001B[39;00m \u001B[38;5;21;01m.\u001B[39;00m\u001B[38;5;21;01mpipe_analysis\u001B[39;00m \u001B[38;5;28;01mimport\u001B[39;00m analyze_pipes, print_pipe_analysis, validate_attrs\n\u001B[1;32m     47\u001B[0m \u001B[38;5;28;01mfrom\u001B[39;00m \u001B[38;5;21;01m.\u001B[39;00m\u001B[38;5;21;01mschemas\u001B[39;00m \u001B[38;5;28;01mimport\u001B[39;00m (\n\u001B[1;32m     48\u001B[0m     ConfigSchema,\n\u001B[1;32m     49\u001B[0m     ConfigSchemaInit,\n\u001B[0;32m   (...)\u001B[0m\n\u001B[1;32m     52\u001B[0m     validate_init_settings,\n\u001B[1;32m     53\u001B[0m )\n\u001B[1;32m     54\u001B[0m \u001B[38;5;28;01mfrom\u001B[39;00m \u001B[38;5;21;01m.\u001B[39;00m\u001B[38;5;21;01mscorer\u001B[39;00m \u001B[38;5;28;01mimport\u001B[39;00m Scorer\n",
      "File \u001B[0;32m~/anaconda3/lib/python3.12/site-packages/spacy/pipe_analysis.py:6\u001B[0m\n\u001B[1;32m      3\u001B[0m \u001B[38;5;28;01mfrom\u001B[39;00m \u001B[38;5;21;01mwasabi\u001B[39;00m \u001B[38;5;28;01mimport\u001B[39;00m msg\n\u001B[1;32m      5\u001B[0m \u001B[38;5;28;01mfrom\u001B[39;00m \u001B[38;5;21;01m.\u001B[39;00m\u001B[38;5;21;01merrors\u001B[39;00m \u001B[38;5;28;01mimport\u001B[39;00m Errors\n\u001B[0;32m----> 6\u001B[0m \u001B[38;5;28;01mfrom\u001B[39;00m \u001B[38;5;21;01m.\u001B[39;00m\u001B[38;5;21;01mtokens\u001B[39;00m \u001B[38;5;28;01mimport\u001B[39;00m Doc, Span, Token\n\u001B[1;32m      7\u001B[0m \u001B[38;5;28;01mfrom\u001B[39;00m \u001B[38;5;21;01m.\u001B[39;00m\u001B[38;5;21;01mutil\u001B[39;00m \u001B[38;5;28;01mimport\u001B[39;00m dot_to_dict\n\u001B[1;32m      9\u001B[0m \u001B[38;5;28;01mif\u001B[39;00m TYPE_CHECKING:\n\u001B[1;32m     10\u001B[0m     \u001B[38;5;66;03m# This lets us add type hints for mypy etc. without causing circular imports\u001B[39;00m\n",
      "File \u001B[0;32m~/anaconda3/lib/python3.12/site-packages/spacy/tokens/__init__.py:1\u001B[0m\n\u001B[0;32m----> 1\u001B[0m \u001B[38;5;28;01mfrom\u001B[39;00m \u001B[38;5;21;01m.\u001B[39;00m\u001B[38;5;21;01m_serialize\u001B[39;00m \u001B[38;5;28;01mimport\u001B[39;00m DocBin\n\u001B[1;32m      2\u001B[0m \u001B[38;5;28;01mfrom\u001B[39;00m \u001B[38;5;21;01m.\u001B[39;00m\u001B[38;5;21;01mdoc\u001B[39;00m \u001B[38;5;28;01mimport\u001B[39;00m Doc\n\u001B[1;32m      3\u001B[0m \u001B[38;5;28;01mfrom\u001B[39;00m \u001B[38;5;21;01m.\u001B[39;00m\u001B[38;5;21;01mmorphanalysis\u001B[39;00m \u001B[38;5;28;01mimport\u001B[39;00m MorphAnalysis\n",
      "File \u001B[0;32m~/anaconda3/lib/python3.12/site-packages/spacy/tokens/_serialize.py:14\u001B[0m\n\u001B[1;32m     12\u001B[0m \u001B[38;5;28;01mfrom\u001B[39;00m \u001B[38;5;21;01m.\u001B[39;00m\u001B[38;5;21;01m.\u001B[39;00m\u001B[38;5;21;01merrors\u001B[39;00m \u001B[38;5;28;01mimport\u001B[39;00m Errors\n\u001B[1;32m     13\u001B[0m \u001B[38;5;28;01mfrom\u001B[39;00m \u001B[38;5;21;01m.\u001B[39;00m\u001B[38;5;21;01m.\u001B[39;00m\u001B[38;5;21;01mutil\u001B[39;00m \u001B[38;5;28;01mimport\u001B[39;00m SimpleFrozenList, ensure_path\n\u001B[0;32m---> 14\u001B[0m \u001B[38;5;28;01mfrom\u001B[39;00m \u001B[38;5;21;01m.\u001B[39;00m\u001B[38;5;21;01m.\u001B[39;00m\u001B[38;5;21;01mvocab\u001B[39;00m \u001B[38;5;28;01mimport\u001B[39;00m Vocab\n\u001B[1;32m     15\u001B[0m \u001B[38;5;28;01mfrom\u001B[39;00m \u001B[38;5;21;01m.\u001B[39;00m\u001B[38;5;21;01m_dict_proxies\u001B[39;00m \u001B[38;5;28;01mimport\u001B[39;00m SpanGroups\n\u001B[1;32m     16\u001B[0m \u001B[38;5;28;01mfrom\u001B[39;00m \u001B[38;5;21;01m.\u001B[39;00m\u001B[38;5;21;01mdoc\u001B[39;00m \u001B[38;5;28;01mimport\u001B[39;00m DOCBIN_ALL_ATTRS \u001B[38;5;28;01mas\u001B[39;00m ALL_ATTRS\n",
      "File \u001B[0;32m~/anaconda3/lib/python3.12/site-packages/spacy/vocab.pyx:1\u001B[0m, in \u001B[0;36minit spacy.vocab\u001B[0;34m()\u001B[0m\n",
      "File \u001B[0;32m~/anaconda3/lib/python3.12/site-packages/spacy/tokens/doc.pyx:49\u001B[0m, in \u001B[0;36minit spacy.tokens.doc\u001B[0;34m()\u001B[0m\n",
      "File \u001B[0;32m~/anaconda3/lib/python3.12/site-packages/spacy/schemas.py:195\u001B[0m\n\u001B[1;32m    191\u001B[0m         obj \u001B[38;5;241m=\u001B[39m converted\n\u001B[1;32m    192\u001B[0m     \u001B[38;5;28;01mreturn\u001B[39;00m validate(TokenPatternSchema, {\u001B[38;5;124m\"\u001B[39m\u001B[38;5;124mpattern\u001B[39m\u001B[38;5;124m\"\u001B[39m: obj})\n\u001B[0;32m--> 195\u001B[0m \u001B[38;5;28;01mclass\u001B[39;00m \u001B[38;5;21;01mTokenPatternString\u001B[39;00m(BaseModel):\n\u001B[1;32m    196\u001B[0m     REGEX: Optional[Union[StrictStr, \u001B[38;5;124m\"\u001B[39m\u001B[38;5;124mTokenPatternString\u001B[39m\u001B[38;5;124m\"\u001B[39m]] \u001B[38;5;241m=\u001B[39m Field(\u001B[38;5;28;01mNone\u001B[39;00m, alias\u001B[38;5;241m=\u001B[39m\u001B[38;5;124m\"\u001B[39m\u001B[38;5;124mregex\u001B[39m\u001B[38;5;124m\"\u001B[39m)\n\u001B[1;32m    197\u001B[0m     IN: Optional[List[StrictStr]] \u001B[38;5;241m=\u001B[39m Field(\u001B[38;5;28;01mNone\u001B[39;00m, alias\u001B[38;5;241m=\u001B[39m\u001B[38;5;124m\"\u001B[39m\u001B[38;5;124min\u001B[39m\u001B[38;5;124m\"\u001B[39m)\n",
      "File \u001B[0;32m~/anaconda3/lib/python3.12/site-packages/pydantic/v1/main.py:286\u001B[0m, in \u001B[0;36mModelMetaclass.__new__\u001B[0;34m(mcs, name, bases, namespace, **kwargs)\u001B[0m\n\u001B[1;32m    284\u001B[0m \u001B[38;5;28mcls\u001B[39m\u001B[38;5;241m.\u001B[39m__signature__ \u001B[38;5;241m=\u001B[39m ClassAttribute(\u001B[38;5;124m'\u001B[39m\u001B[38;5;124m__signature__\u001B[39m\u001B[38;5;124m'\u001B[39m, generate_model_signature(\u001B[38;5;28mcls\u001B[39m\u001B[38;5;241m.\u001B[39m\u001B[38;5;21m__init__\u001B[39m, fields, config))\n\u001B[1;32m    285\u001B[0m \u001B[38;5;28;01mif\u001B[39;00m resolve_forward_refs:\n\u001B[0;32m--> 286\u001B[0m     \u001B[38;5;28mcls\u001B[39m\u001B[38;5;241m.\u001B[39m__try_update_forward_refs__()\n\u001B[1;32m    288\u001B[0m \u001B[38;5;66;03m# preserve `__set_name__` protocol defined in https://peps.python.org/pep-0487\u001B[39;00m\n\u001B[1;32m    289\u001B[0m \u001B[38;5;66;03m# for attributes not in `new_namespace` (e.g. private attributes)\u001B[39;00m\n\u001B[1;32m    290\u001B[0m \u001B[38;5;28;01mfor\u001B[39;00m name, obj \u001B[38;5;129;01min\u001B[39;00m namespace\u001B[38;5;241m.\u001B[39mitems():\n",
      "File \u001B[0;32m~/anaconda3/lib/python3.12/site-packages/pydantic/v1/main.py:808\u001B[0m, in \u001B[0;36mBaseModel.__try_update_forward_refs__\u001B[0;34m(cls, **localns)\u001B[0m\n\u001B[1;32m    802\u001B[0m \u001B[38;5;129m@classmethod\u001B[39m\n\u001B[1;32m    803\u001B[0m \u001B[38;5;28;01mdef\u001B[39;00m \u001B[38;5;21m__try_update_forward_refs__\u001B[39m(\u001B[38;5;28mcls\u001B[39m, \u001B[38;5;241m*\u001B[39m\u001B[38;5;241m*\u001B[39mlocalns: Any) \u001B[38;5;241m-\u001B[39m\u001B[38;5;241m>\u001B[39m \u001B[38;5;28;01mNone\u001B[39;00m:\n\u001B[1;32m    804\u001B[0m \u001B[38;5;250m    \u001B[39m\u001B[38;5;124;03m\"\"\"\u001B[39;00m\n\u001B[1;32m    805\u001B[0m \u001B[38;5;124;03m    Same as update_forward_refs but will not raise exception\u001B[39;00m\n\u001B[1;32m    806\u001B[0m \u001B[38;5;124;03m    when forward references are not defined.\u001B[39;00m\n\u001B[1;32m    807\u001B[0m \u001B[38;5;124;03m    \"\"\"\u001B[39;00m\n\u001B[0;32m--> 808\u001B[0m     update_model_forward_refs(\u001B[38;5;28mcls\u001B[39m, \u001B[38;5;28mcls\u001B[39m\u001B[38;5;241m.\u001B[39m__fields__\u001B[38;5;241m.\u001B[39mvalues(), \u001B[38;5;28mcls\u001B[39m\u001B[38;5;241m.\u001B[39m__config__\u001B[38;5;241m.\u001B[39mjson_encoders, localns, (\u001B[38;5;167;01mNameError\u001B[39;00m,))\n",
      "File \u001B[0;32m~/anaconda3/lib/python3.12/site-packages/pydantic/v1/typing.py:554\u001B[0m, in \u001B[0;36mupdate_model_forward_refs\u001B[0;34m(model, fields, json_encoders, localns, exc_to_suppress)\u001B[0m\n\u001B[1;32m    552\u001B[0m \u001B[38;5;28;01mfor\u001B[39;00m f \u001B[38;5;129;01min\u001B[39;00m fields:\n\u001B[1;32m    553\u001B[0m     \u001B[38;5;28;01mtry\u001B[39;00m:\n\u001B[0;32m--> 554\u001B[0m         update_field_forward_refs(f, globalns\u001B[38;5;241m=\u001B[39mglobalns, localns\u001B[38;5;241m=\u001B[39mlocalns)\n\u001B[1;32m    555\u001B[0m     \u001B[38;5;28;01mexcept\u001B[39;00m exc_to_suppress:\n\u001B[1;32m    556\u001B[0m         \u001B[38;5;28;01mpass\u001B[39;00m\n",
      "File \u001B[0;32m~/anaconda3/lib/python3.12/site-packages/pydantic/v1/typing.py:529\u001B[0m, in \u001B[0;36mupdate_field_forward_refs\u001B[0;34m(field, globalns, localns)\u001B[0m\n\u001B[1;32m    527\u001B[0m \u001B[38;5;28;01mif\u001B[39;00m field\u001B[38;5;241m.\u001B[39msub_fields:\n\u001B[1;32m    528\u001B[0m     \u001B[38;5;28;01mfor\u001B[39;00m sub_f \u001B[38;5;129;01min\u001B[39;00m field\u001B[38;5;241m.\u001B[39msub_fields:\n\u001B[0;32m--> 529\u001B[0m         update_field_forward_refs(sub_f, globalns\u001B[38;5;241m=\u001B[39mglobalns, localns\u001B[38;5;241m=\u001B[39mlocalns)\n\u001B[1;32m    531\u001B[0m \u001B[38;5;28;01mif\u001B[39;00m field\u001B[38;5;241m.\u001B[39mdiscriminator_key \u001B[38;5;129;01mis\u001B[39;00m \u001B[38;5;129;01mnot\u001B[39;00m \u001B[38;5;28;01mNone\u001B[39;00m:\n\u001B[1;32m    532\u001B[0m     field\u001B[38;5;241m.\u001B[39mprepare_discriminated_union_sub_fields()\n",
      "File \u001B[0;32m~/anaconda3/lib/python3.12/site-packages/pydantic/v1/typing.py:520\u001B[0m, in \u001B[0;36mupdate_field_forward_refs\u001B[0;34m(field, globalns, localns)\u001B[0m\n\u001B[1;32m    518\u001B[0m \u001B[38;5;28;01mif\u001B[39;00m field\u001B[38;5;241m.\u001B[39mtype_\u001B[38;5;241m.\u001B[39m\u001B[38;5;18m__class__\u001B[39m \u001B[38;5;241m==\u001B[39m ForwardRef:\n\u001B[1;32m    519\u001B[0m     prepare \u001B[38;5;241m=\u001B[39m \u001B[38;5;28;01mTrue\u001B[39;00m\n\u001B[0;32m--> 520\u001B[0m     field\u001B[38;5;241m.\u001B[39mtype_ \u001B[38;5;241m=\u001B[39m evaluate_forwardref(field\u001B[38;5;241m.\u001B[39mtype_, globalns, localns \u001B[38;5;129;01mor\u001B[39;00m \u001B[38;5;28;01mNone\u001B[39;00m)\n\u001B[1;32m    521\u001B[0m \u001B[38;5;28;01mif\u001B[39;00m field\u001B[38;5;241m.\u001B[39mouter_type_\u001B[38;5;241m.\u001B[39m\u001B[38;5;18m__class__\u001B[39m \u001B[38;5;241m==\u001B[39m ForwardRef:\n\u001B[1;32m    522\u001B[0m     prepare \u001B[38;5;241m=\u001B[39m \u001B[38;5;28;01mTrue\u001B[39;00m\n",
      "File \u001B[0;32m~/anaconda3/lib/python3.12/site-packages/pydantic/v1/typing.py:66\u001B[0m, in \u001B[0;36mevaluate_forwardref\u001B[0;34m(type_, globalns, localns)\u001B[0m\n\u001B[1;32m     63\u001B[0m \u001B[38;5;28;01mdef\u001B[39;00m \u001B[38;5;21mevaluate_forwardref\u001B[39m(type_: ForwardRef, globalns: Any, localns: Any) \u001B[38;5;241m-\u001B[39m\u001B[38;5;241m>\u001B[39m Any:\n\u001B[1;32m     64\u001B[0m     \u001B[38;5;66;03m# Even though it is the right signature for python 3.9, mypy complains with\u001B[39;00m\n\u001B[1;32m     65\u001B[0m     \u001B[38;5;66;03m# `error: Too many arguments for \"_evaluate\" of \"ForwardRef\"` hence the cast...\u001B[39;00m\n\u001B[0;32m---> 66\u001B[0m     \u001B[38;5;28;01mreturn\u001B[39;00m cast(Any, type_)\u001B[38;5;241m.\u001B[39m_evaluate(globalns, localns, \u001B[38;5;28mset\u001B[39m())\n",
      "\u001B[0;31mTypeError\u001B[0m: ForwardRef._evaluate() missing 1 required keyword-only argument: 'recursive_guard'"
     ]
    }
   ],
   "execution_count": 7
  }
 ],
 "metadata": {
  "kernelspec": {
   "display_name": "Python 3",
   "language": "python",
   "name": "python3"
  },
  "language_info": {
   "codemirror_mode": {
    "name": "ipython",
    "version": 2
   },
   "file_extension": ".py",
   "mimetype": "text/x-python",
   "name": "python",
   "nbconvert_exporter": "python",
   "pygments_lexer": "ipython2",
   "version": "2.7.6"
  }
 },
 "nbformat": 4,
 "nbformat_minor": 5
}
