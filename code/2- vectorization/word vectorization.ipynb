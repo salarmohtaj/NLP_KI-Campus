{
 "cells": [
  {
   "metadata": {},
   "cell_type": "markdown",
   "source": [
    "# Text Vectorization with Scikit-learn\n",
    "\n",
    "This notebook demonstrates how to vectorize text data using different methods provided by the `scikit-learn` library:\n",
    "\n",
    "- Count Vectorizer (Bag of Words)\n",
    "- n-grams\n",
    "- TF-IDF"
   ],
   "id": "5fb6e04f7d59a1e3"
  },
  {
   "metadata": {},
   "cell_type": "markdown",
   "source": [
    "## 1. Preparing the Data\n",
    "\n",
    "We will use a small set of sample text data for this demonstration.\n"
   ],
   "id": "85dd1a714fd89662"
  },
  {
   "cell_type": "code",
   "id": "initial_id",
   "metadata": {
    "collapsed": true
   },
   "source": [
    "%pip install sklearn\n",
    "\n",
    "# Sample text data\n",
    "documents = [\n",
    "    \"Natural language processing is fun and exciting.\",\n",
    "    \"Machine learning is a part of data science.\",\n",
    "    \"Data science involves statistics and programming.\",\n",
    "    \"Python is a great programming language for machine learning.\"\n",
    "]\n",
    "\n",
    "# Display the data\n",
    "for i, doc in enumerate(documents, 1):\n",
    "    print(f\"Document {i}: {doc}\")"
   ],
   "outputs": [],
   "execution_count": null
  },
  {
   "metadata": {},
   "cell_type": "markdown",
   "source": [
    "## 2. Count Vectorizer (Bag of Words)\n",
    "Count Vectorizer converts text into a matrix of token counts.\n",
    "\n",
    "python\n",
    "Copy code\n"
   ],
   "id": "770009e74f6acc05"
  },
  {
   "metadata": {},
   "cell_type": "code",
   "source": [
    "from sklearn.feature_extraction.text import CountVectorizer\n",
    "\n",
    "# Initialize the CountVectorizer\n",
    "vectorizer = CountVectorizer()\n",
    "\n",
    "# Fit and transform the text data\n",
    "X = vectorizer.fit_transform(documents)\n",
    "\n",
    "# Display the feature names (words)\n",
    "print(\"Feature Names:\", vectorizer.get_feature_names_out())\n",
    "\n",
    "# Display the Bag of Words matrix\n",
    "print(\"\\nBag of Words Matrix:\")\n",
    "print(X.toarray())"
   ],
   "id": "ce83e62e47e90edc",
   "outputs": [],
   "execution_count": null
  },
  {
   "metadata": {},
   "cell_type": "markdown",
   "source": [
    "## 3. Using n-grams\n",
    "An n-gram is a sequence of n words. Here, we demonstrate bi-grams (n=2)."
   ],
   "id": "87d4b0bc41ac6e14"
  },
  {
   "metadata": {},
   "cell_type": "code",
   "source": [
    "# Configure the CountVectorizer for bi-grams\n",
    "bigram_vectorizer = CountVectorizer(ngram_range=(2, 2))\n",
    "\n",
    "# Fit and transform the text data\n",
    "X_bigram = bigram_vectorizer.fit_transform(documents)\n",
    "\n",
    "# Display the feature names (bi-grams)\n",
    "print(\"Bi-gram Feature Names:\", bigram_vectorizer.get_feature_names_out())\n",
    "\n",
    "# Display the bi-gram matrix\n",
    "print(\"\\nBi-gram Matrix:\")\n",
    "print(X_bigram.toarray())\n"
   ],
   "id": "b3e308b7128c35e2",
   "outputs": [],
   "execution_count": null
  },
  {
   "metadata": {},
   "cell_type": "markdown",
   "source": [
    "## 4. TF-IDF Vectorization\n",
    "TF-IDF (Term Frequency-Inverse Document Frequency) gives importance to words based on their frequency across the documents."
   ],
   "id": "d1ee6ed046732abf"
  },
  {
   "metadata": {},
   "cell_type": "code",
   "source": [
    "from sklearn.feature_extraction.text import TfidfVectorizer\n",
    "\n",
    "# Initialize the TfidfVectorizer\n",
    "tfidf_vectorizer = TfidfVectorizer()\n",
    "\n",
    "# Fit and transform the text data\n",
    "X_tfidf = tfidf_vectorizer.fit_transform(documents)\n",
    "\n",
    "# Display the feature names (words)\n",
    "print(\"TF-IDF Feature Names:\", tfidf_vectorizer.get_feature_names_out())\n",
    "\n",
    "# Display the TF-IDF matrix\n",
    "print(\"\\nTF-IDF Matrix:\")\n",
    "print(X_tfidf.toarray())\n"
   ],
   "id": "4db9851625d679cc",
   "outputs": [],
   "execution_count": null
  }
 ],
 "metadata": {
  "kernelspec": {
   "display_name": "Python 3",
   "language": "python",
   "name": "python3"
  },
  "language_info": {
   "codemirror_mode": {
    "name": "ipython",
    "version": 2
   },
   "file_extension": ".py",
   "mimetype": "text/x-python",
   "name": "python",
   "nbconvert_exporter": "python",
   "pygments_lexer": "ipython2",
   "version": "2.7.6"
  }
 },
 "nbformat": 4,
 "nbformat_minor": 5
}
